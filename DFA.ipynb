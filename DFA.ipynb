{
 "cells": [
  {
   "cell_type": "markdown",
   "id": "163aa550-70f1-41f4-83cd-f8d81564ecaf",
   "metadata": {},
   "source": [
    "# Installing automata package"
   ]
  },
  {
   "cell_type": "code",
   "execution_count": 20,
   "id": "52d15840-9292-4641-84fc-10d6c9b43645",
   "metadata": {
    "collapsed": true,
    "jupyter": {
     "outputs_hidden": true
    }
   },
   "outputs": [
    {
     "name": "stdout",
     "output_type": "stream",
     "text": [
      "Requirement already satisfied: automata-lib in c:\\users\\ahmed\\anaconda3\\envs\\notebook\\lib\\site-packages (8.1.0)Note: you may need to restart the kernel to use updated packages.\n",
      "\n",
      "Requirement already satisfied: networkx>=2.6.2 in c:\\users\\ahmed\\appdata\\roaming\\python\\python311\\site-packages (from automata-lib) (3.2.1)\n",
      "Requirement already satisfied: frozendict>=2.3.4 in c:\\users\\ahmed\\anaconda3\\envs\\notebook\\lib\\site-packages (from automata-lib) (2.3.10)\n",
      "Requirement already satisfied: typing-extensions>=4.5.0 in c:\\users\\ahmed\\anaconda3\\envs\\notebook\\lib\\site-packages (from automata-lib) (4.9.0)\n",
      "Requirement already satisfied: cached-method>=0.1.0 in c:\\users\\ahmed\\anaconda3\\envs\\notebook\\lib\\site-packages (from automata-lib) (0.1.0)\n"
     ]
    }
   ],
   "source": [
    "pip install automata-lib"
   ]
  },
  {
   "cell_type": "markdown",
   "id": "5b1c6f76-ca57-43e0-88fa-58e555d4469f",
   "metadata": {},
   "source": [
    "# DFA Code"
   ]
  },
  {
   "cell_type": "code",
   "execution_count": 21,
   "id": "5f060fea-8a01-4d6a-915d-e3819a95e6f2",
   "metadata": {},
   "outputs": [],
   "source": [
    "from automata.fa.dfa import DFA"
   ]
  },
  {
   "cell_type": "markdown",
   "id": "672bcc4c-33f6-421a-a8c3-5de5dfd37ccf",
   "metadata": {},
   "source": [
    "### DFA accepting all strings the end with '10'"
   ]
  },
  {
   "cell_type": "code",
   "execution_count": 41,
   "id": "e3cc2fd0-b267-45ef-af90-a80614454c3a",
   "metadata": {},
   "outputs": [],
   "source": [
    "dfa = DFA(\n",
    "    states={'q0', 'q1', 'q2'},\n",
    "    input_symbols={'0', '1'},\n",
    "    transitions={\n",
    "        'q0':{'0':'q0', '1':'q1'},\n",
    "        'q1':{'0':'q2', '1':'q1'},\n",
    "        'q2':{'0':'q0', '1':'q1'}\n",
    "    },\n",
    "    initial_state='q0',\n",
    "    final_states={'q2'},\n",
    ")"
   ]
  },
  {
   "cell_type": "code",
   "execution_count": 43,
   "id": "460f0b4f-551e-4964-88cf-170e7c6bb491",
   "metadata": {},
   "outputs": [
    {
     "name": "stdin",
     "output_type": "stream",
     "text": [
      "Enter a string:  11101\n"
     ]
    },
    {
     "name": "stdout",
     "output_type": "stream",
     "text": [
      "Rejected!\n"
     ]
    }
   ],
   "source": [
    "string = input('Enter a string: ')\n",
    "\n",
    "if dfa.accepts_input(string):\n",
    "    print('Accepted!')\n",
    "else:\n",
    "    print('Rejected!')"
   ]
  },
  {
   "cell_type": "code",
   "execution_count": null,
   "id": "bda79963-a244-4773-91cd-2261684934b3",
   "metadata": {
    "jupyter": {
     "source_hidden": true
    }
   },
   "outputs": [],
   "source": []
  },
  {
   "cell_type": "code",
   "execution_count": null,
   "id": "d49c7800-9531-4579-8b1f-9d375950137c",
   "metadata": {
    "jupyter": {
     "source_hidden": true
    }
   },
   "outputs": [],
   "source": []
  },
  {
   "cell_type": "code",
   "execution_count": null,
   "id": "3c7c7e38-0a9f-44e5-8e9d-d94f49c070d3",
   "metadata": {},
   "outputs": [],
   "source": []
  }
 ],
 "metadata": {
  "kernelspec": {
   "display_name": "Python 3 (ipykernel)",
   "language": "python",
   "name": "python3"
  },
  "language_info": {
   "codemirror_mode": {
    "name": "ipython",
    "version": 3
   },
   "file_extension": ".py",
   "mimetype": "text/x-python",
   "name": "python",
   "nbconvert_exporter": "python",
   "pygments_lexer": "ipython3",
   "version": "3.11.5"
  }
 },
 "nbformat": 4,
 "nbformat_minor": 5
}
